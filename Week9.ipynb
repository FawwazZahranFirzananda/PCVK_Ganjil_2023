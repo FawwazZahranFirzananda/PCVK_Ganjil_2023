{
  "nbformat": 4,
  "nbformat_minor": 0,
  "metadata": {
    "colab": {
      "provenance": [],
      "authorship_tag": "ABX9TyM4FJYIhAEDcTPdp90khuOk",
      "include_colab_link": true
    },
    "kernelspec": {
      "name": "python3",
      "display_name": "Python 3"
    },
    "language_info": {
      "name": "python"
    }
  },
  "cells": [
    {
      "cell_type": "markdown",
      "metadata": {
        "id": "view-in-github",
        "colab_type": "text"
      },
      "source": [
        "<a href=\"https://colab.research.google.com/github/FawwazZahranFirzananda/PCVK_Ganjil_2023/blob/main/Week9.ipynb\" target=\"_parent\"><img src=\"https://colab.research.google.com/assets/colab-badge.svg\" alt=\"Open In Colab\"/></a>"
      ]
    },
    {
      "cell_type": "markdown",
      "source": [
        "**D. Tugas Praktikum**"
      ],
      "metadata": {
        "id": "ba8OMGqrUy9B"
      }
    },
    {
      "cell_type": "markdown",
      "source": [
        "1. Import folder yang ada di Drive."
      ],
      "metadata": {
        "id": "K2PTzyqHU3dq"
      }
    },
    {
      "cell_type": "code",
      "execution_count": 1,
      "metadata": {
        "id": "Yc1zhXMCTklk",
        "outputId": "7c691717-67ec-421c-deef-bfcf71581dc2",
        "colab": {
          "base_uri": "https://localhost:8080/"
        }
      },
      "outputs": [
        {
          "output_type": "stream",
          "name": "stdout",
          "text": [
            "Mounted at /content/drive\n"
          ]
        }
      ],
      "source": [
        "from google.colab import drive\n",
        "drive.mount('/content/drive')"
      ]
    },
    {
      "cell_type": "markdown",
      "source": [
        "2. Import beberapa library berikut yang akan digunakan selama uji coba praktikum minggu ke-6."
      ],
      "metadata": {
        "id": "OLoZA8UUVcFw"
      }
    },
    {
      "cell_type": "code",
      "source": [
        "import cv2\n",
        "import numpy as np\n",
        "from matplotlib import pyplot as plt"
      ],
      "metadata": {
        "id": "TfxcxzJfVsbm"
      },
      "execution_count": 2,
      "outputs": []
    },
    {
      "cell_type": "markdown",
      "source": [
        "3. Buatlah fungsi dilasi serta tampilkan hasil dilasi pada citra dengan Structuring Element Dilasi (SED) berbentuk cross 3 x 3 tanpa menggunakan library morphology dari openCV."
      ],
      "metadata": {
        "id": "oq0_NJE_V4Rm"
      }
    },
    {
      "cell_type": "code",
      "source": [
        "#Dilasi tanpa library\n",
        "\n",
        "def dilasi_citra(F,w):\n",
        "  #size image\n",
        "  p, q = F.shape\n",
        "\n",
        "  imgD= np.zeros((p,q), dtype=np.uint8)\n",
        "\n",
        "  #Generate structure element dilasi (SED)\n",
        "  SED= np.ones((w,w), dtype=np.uint8)\n",
        "  constant1= (w-1)//2\n",
        "\n",
        "  #Proses Dilasi\n",
        "  for i in range(constant1, p-constant1):\n",
        "    for j in range(constant1,q-constant1):\n",
        "      temp= F[i-constant1:i+constant1+1, j-constant1:j+constant1+1]\n",
        "      product= temp*SED\n",
        "      imgD[i,j]= np.max(product)\n",
        "  return imgD\n",
        "\n",
        "img_d= cv2.imread('/content/drive/MyDrive/PCVK/Images/plat nomer.jpg',0)\n",
        "ret, thresh = cv2.threshold(img_d, 125, 200, cv2.THRESH_BINARY)\n",
        "w=5\n",
        "imgD = dilasi_citra(thresh,w)\n",
        "\n",
        "plt.subplot(131),plt.imshow(img_d,cmap = 'gray')\n",
        "plt.title('Citra Awal'), plt.xticks([]), plt.yticks([])\n",
        "plt.subplot(132),plt.imshow(imgD,cmap = 'gray')\n",
        "plt.title('Citra Hasil Dilasi'), plt.xticks([]), plt.yticks([])\n",
        "plt.show()"
      ],
      "metadata": {
        "id": "rPoO9_kHV8Hq",
        "outputId": "82b26341-0819-4601-8d4b-bf03970d373b",
        "colab": {
          "base_uri": "https://localhost:8080/",
          "height": 366
        }
      },
      "execution_count": 5,
      "outputs": [
        {
          "output_type": "error",
          "ename": "AttributeError",
          "evalue": "ignored",
          "traceback": [
            "\u001b[0;31m---------------------------------------------------------------------------\u001b[0m",
            "\u001b[0;31mAttributeError\u001b[0m                            Traceback (most recent call last)",
            "\u001b[0;32m<ipython-input-5-08f781d12f9b>\u001b[0m in \u001b[0;36m<cell line: 24>\u001b[0;34m()\u001b[0m\n\u001b[1;32m     22\u001b[0m \u001b[0mret\u001b[0m\u001b[0;34m,\u001b[0m \u001b[0mthresh\u001b[0m \u001b[0;34m=\u001b[0m \u001b[0mcv2\u001b[0m\u001b[0;34m.\u001b[0m\u001b[0mthreshold\u001b[0m\u001b[0;34m(\u001b[0m\u001b[0mimg_d\u001b[0m\u001b[0;34m,\u001b[0m \u001b[0;36m125\u001b[0m\u001b[0;34m,\u001b[0m \u001b[0;36m200\u001b[0m\u001b[0;34m,\u001b[0m \u001b[0mcv2\u001b[0m\u001b[0;34m.\u001b[0m\u001b[0mTHRESH_BINARY\u001b[0m\u001b[0;34m)\u001b[0m\u001b[0;34m\u001b[0m\u001b[0;34m\u001b[0m\u001b[0m\n\u001b[1;32m     23\u001b[0m \u001b[0mw\u001b[0m\u001b[0;34m=\u001b[0m\u001b[0;36m5\u001b[0m\u001b[0;34m\u001b[0m\u001b[0;34m\u001b[0m\u001b[0m\n\u001b[0;32m---> 24\u001b[0;31m \u001b[0mimgD\u001b[0m \u001b[0;34m=\u001b[0m \u001b[0mdilasi_citra\u001b[0m\u001b[0;34m(\u001b[0m\u001b[0mthresh\u001b[0m\u001b[0;34m,\u001b[0m\u001b[0mw\u001b[0m\u001b[0;34m)\u001b[0m\u001b[0;34m\u001b[0m\u001b[0;34m\u001b[0m\u001b[0m\n\u001b[0m\u001b[1;32m     25\u001b[0m \u001b[0;34m\u001b[0m\u001b[0m\n\u001b[1;32m     26\u001b[0m \u001b[0mplt\u001b[0m\u001b[0;34m.\u001b[0m\u001b[0msubplot\u001b[0m\u001b[0;34m(\u001b[0m\u001b[0;36m131\u001b[0m\u001b[0;34m)\u001b[0m\u001b[0;34m,\u001b[0m\u001b[0mplt\u001b[0m\u001b[0;34m.\u001b[0m\u001b[0mimshow\u001b[0m\u001b[0;34m(\u001b[0m\u001b[0mimg_d\u001b[0m\u001b[0;34m,\u001b[0m\u001b[0mcmap\u001b[0m \u001b[0;34m=\u001b[0m \u001b[0;34m'gray'\u001b[0m\u001b[0;34m)\u001b[0m\u001b[0;34m\u001b[0m\u001b[0;34m\u001b[0m\u001b[0m\n",
            "\u001b[0;32m<ipython-input-5-08f781d12f9b>\u001b[0m in \u001b[0;36mdilasi_citra\u001b[0;34m(F, w)\u001b[0m\n\u001b[1;32m      3\u001b[0m \u001b[0;32mdef\u001b[0m \u001b[0mdilasi_citra\u001b[0m\u001b[0;34m(\u001b[0m\u001b[0mF\u001b[0m\u001b[0;34m,\u001b[0m\u001b[0mw\u001b[0m\u001b[0;34m)\u001b[0m\u001b[0;34m:\u001b[0m\u001b[0;34m\u001b[0m\u001b[0;34m\u001b[0m\u001b[0m\n\u001b[1;32m      4\u001b[0m   \u001b[0;31m#size image\u001b[0m\u001b[0;34m\u001b[0m\u001b[0;34m\u001b[0m\u001b[0m\n\u001b[0;32m----> 5\u001b[0;31m   \u001b[0mp\u001b[0m\u001b[0;34m,\u001b[0m \u001b[0mq\u001b[0m \u001b[0;34m=\u001b[0m \u001b[0mF\u001b[0m\u001b[0;34m.\u001b[0m\u001b[0mshape\u001b[0m\u001b[0;34m\u001b[0m\u001b[0;34m\u001b[0m\u001b[0m\n\u001b[0m\u001b[1;32m      6\u001b[0m \u001b[0;34m\u001b[0m\u001b[0m\n\u001b[1;32m      7\u001b[0m   \u001b[0mimgD\u001b[0m\u001b[0;34m=\u001b[0m \u001b[0mnp\u001b[0m\u001b[0;34m.\u001b[0m\u001b[0mzeros\u001b[0m\u001b[0;34m(\u001b[0m\u001b[0;34m(\u001b[0m\u001b[0mp\u001b[0m\u001b[0;34m,\u001b[0m\u001b[0mq\u001b[0m\u001b[0;34m)\u001b[0m\u001b[0;34m,\u001b[0m \u001b[0mdtype\u001b[0m\u001b[0;34m=\u001b[0m\u001b[0mnp\u001b[0m\u001b[0;34m.\u001b[0m\u001b[0muint8\u001b[0m\u001b[0;34m)\u001b[0m\u001b[0;34m\u001b[0m\u001b[0;34m\u001b[0m\u001b[0m\n",
            "\u001b[0;31mAttributeError\u001b[0m: 'NoneType' object has no attribute 'shape'"
          ]
        }
      ]
    },
    {
      "cell_type": "markdown",
      "source": [
        "4. Buatlah program implementasi operasi dilasi Structuring Element Dilasi (SED) berbentuk cross 3 x 3 dengan menggunakan library morphology dari openCV."
      ],
      "metadata": {
        "id": "ClkczR3AaPr3"
      }
    },
    {
      "cell_type": "markdown",
      "source": [
        "5. Buatlah fungsi erosi serta tampilkan hasil erosi pada citra dengan Structuring Element Erosi (SE) berbentuk square 5 x 5 tanpa menggunakan library morphology dari openCV."
      ],
      "metadata": {
        "id": "YZEFoTDmaZY1"
      }
    },
    {
      "cell_type": "markdown",
      "source": [
        "6. Buatlah program implementasi operasi dilasi Structuring Element Erosi (SE) berbentuk square 5 x 5 dengan menggunakan library morphology dari openCV."
      ],
      "metadata": {
        "id": "lQWkdgY9aqFf"
      }
    },
    {
      "cell_type": "markdown",
      "source": [
        "7. Buatlah program implementasi operasi opening dengan Structuring Element berbentuk square 3 x 3 tanpa dan dengan menggunakan library morphology dari openCV."
      ],
      "metadata": {
        "id": "G4Vm3MHratDx"
      }
    },
    {
      "cell_type": "markdown",
      "source": [
        "Operasi Opening tanpa Library Morphology"
      ],
      "metadata": {
        "id": "ZIrmy4FSbKtA"
      }
    },
    {
      "cell_type": "markdown",
      "source": [
        "Operasi Opening Menggunakan Library Morphology"
      ],
      "metadata": {
        "id": "qNweARQkbMlO"
      }
    },
    {
      "cell_type": "markdown",
      "source": [
        "8. Buatlah program implementasi operasi closing dengan Structuring Element berbentuk square 3 x 3 tanpa dan dengan menggunakan library morphology dari openCV."
      ],
      "metadata": {
        "id": "mX3PzLBJbaBz"
      }
    },
    {
      "cell_type": "markdown",
      "source": [
        "Operasi closing tanpa library morphology"
      ],
      "metadata": {
        "id": "9BJ0DP0cbc-B"
      }
    },
    {
      "cell_type": "markdown",
      "source": [
        "Operasi closing dengan library morphology"
      ],
      "metadata": {
        "id": "ERjviExsbh_q"
      }
    },
    {
      "cell_type": "markdown",
      "source": [
        "9. Buatlah program implementasi operasi dilasi dengan Structuring Element berbentuk Cross 3 x 3  dan 5 x 5."
      ],
      "metadata": {
        "id": "j-n65aWgbsMJ"
      }
    },
    {
      "cell_type": "markdown",
      "source": [
        "10. Buatlah program implementasi operasi dilasi dengan Structuring Element berbentuk Circular 3 x 3  dan 5 x 5."
      ],
      "metadata": {
        "id": "xinJf4_ub37O"
      }
    },
    {
      "cell_type": "markdown",
      "source": [
        "11. Buatlah program implementasi operasi erosi dengan Structuring Element berbentuk Rectangle 3 x 5  dan 5 x 7."
      ],
      "metadata": {
        "id": "dBSwl9SZb9d3"
      }
    },
    {
      "cell_type": "markdown",
      "source": [
        "12. Buatlah program implementasi operasi erosi dengan Structuring Element berbentuk Line Vertikal 3 dan 5."
      ],
      "metadata": {
        "id": "yP3fyCQ_cDtd"
      }
    },
    {
      "cell_type": "markdown",
      "source": [
        "13. Top Hat"
      ],
      "metadata": {
        "id": "y8tO_H-OcNs7"
      }
    },
    {
      "cell_type": "markdown",
      "source": [
        "14. Black Hat"
      ],
      "metadata": {
        "id": "ulBtqux_cd9x"
      }
    },
    {
      "cell_type": "markdown",
      "source": [
        "15. Skeleton"
      ],
      "metadata": {
        "id": "ZGVTyM8AchbV"
      }
    },
    {
      "cell_type": "markdown",
      "source": [
        "16. Skeleton Inverse"
      ],
      "metadata": {
        "id": "vrzpgMD2ckND"
      }
    },
    {
      "cell_type": "markdown",
      "source": [
        "17. Thickening"
      ],
      "metadata": {
        "id": "kKM4cjaycow0"
      }
    },
    {
      "cell_type": "markdown",
      "source": [
        "**E. Tugas Praktikum**"
      ],
      "metadata": {
        "id": "hK0V21KicuQK"
      }
    },
    {
      "cell_type": "markdown",
      "source": [
        "Tugas Praktikum Morfologi melibatkan implementasi dataset KTP yang terdapat dalam Modul 7. Dalam tugas ini, kita akan menggunakan semua informasi yang disediakan dalam modul Morfologi dan menerapkan sejumlah nilai tambahan dalam kode sumber. Tujuannya adalah agar citra KTP dapat terbaca dengan baik ketika teknik morfologi diterapkan pada citra tersebut."
      ],
      "metadata": {
        "id": "s4yk2fcmc2J3"
      }
    }
  ]
}